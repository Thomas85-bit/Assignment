{
  "nbformat": 4,
  "nbformat_minor": 0,
  "metadata": {
    "colab": {
      "provenance": []
    },
    "kernelspec": {
      "name": "python3",
      "display_name": "Python 3"
    },
    "language_info": {
      "name": "python"
    }
  },
  "cells": [
    {
      "cell_type": "markdown",
      "source": [
        "# **Practical Questions:**"
      ],
      "metadata": {
        "id": "SrOLWr_664JF"
      }
    },
    {
      "cell_type": "markdown",
      "source": [
        "11. Imagine an accounting routine used in a book shop. It works on a list with sublists, which look like this:\n",
        "Order Number\tBook Title and Author\t          Quantity\tPrice Per Item\n",
        "34587\t        Learning Python, Mark Lutz\t        4\t        40.95\n",
        "98762\t        Programming Python, Mark Lutz\t      5\t        56.80\n",
        "77226\t        Head First Python, Paul Barry\t      3\t        32.95\n",
        "88112\t        Einführung in Python3, Bernd Klein\t3\t        24.99\n",
        "\n",
        "Write a Python program, which returns a list with 2-tuples. Each tuple consists of the order number and the product of the price per item and the quantity. The product should be increased by 10,- € if the value of the order is smaller than 100,00 €.\n",
        "\n",
        "Write a Python program using lambda and map\n",
        "\n",
        "Ans: You can create a Python program that processes the given data and returns a list of tuples, where each tuple contains the order number and the adjusted total price. The program will utilize lambda and map as requested. Here's how to implement this:\n",
        "\n",
        "\n"
      ],
      "metadata": {
        "id": "ignkX1cCJiAM"
      }
    },
    {
      "cell_type": "code",
      "source": [
        "orders = [\n",
        "    [34587, \"Learning Python, Mark Lutz\", 4, 40.95],\n",
        "    [98762, \"Programming Python, Mark Lutz\", 5, 56.80],\n",
        "    [77226, \"Head First Python, Paul Barry\", 3, 32.95],\n",
        "    [88112, \"Einführung in Python3, Bernd Klein\", 3, 24.99]\n",
        "]\n"
      ],
      "metadata": {
        "id": "g5jA-G4dKB0J"
      },
      "execution_count": 26,
      "outputs": []
    },
    {
      "cell_type": "markdown",
      "source": [
        "Program to Calculate Adjusted Prices"
      ],
      "metadata": {
        "id": "kFiWNREmKJLh"
      }
    },
    {
      "cell_type": "code",
      "source": [
        "def calculate_adjusted_totals(orders):\n",
        "    # Function to calculate total price and apply adjustment\n",
        "    def calculate_order(order):\n",
        "        order_number = order[0]\n",
        "        quantity = order[2]\n",
        "        price_per_item = order[3]\n",
        "        total_price = quantity * price_per_item\n",
        "\n",
        "        # Adjust the total price if it's less than 100\n",
        "        if total_price < 100:\n",
        "            total_price += 10\n",
        "\n",
        "        return (order_number, total_price)\n",
        "\n",
        "    # Use map to apply the calculation function to each order\n",
        "    result = list(map(calculate_order, orders))\n",
        "    return result\n",
        "\n",
        "# Example usage\n",
        "adjusted_totals = calculate_adjusted_totals(orders)\n",
        "print(adjusted_totals)"
      ],
      "metadata": {
        "id": "WRxAOhd6KaRQ"
      },
      "execution_count": null,
      "outputs": []
    },
    {
      "cell_type": "markdown",
      "source": [
        "Explanation:\n",
        "\n",
        "Data Structure: The orders list contains sublists for each order with the specified fields.\n",
        "\n",
        "calculate_order Function: This inner function computes the total price for each order and applies the €10 adjustment if the total is less than €100.\n",
        "\n",
        "map: The map() function applies calculate_order to each sublist in orders.\n",
        "\n",
        "Result: The result is converted to a list of tuples containing the order number and the adjusted total price.\n",
        "\n",
        "Output\n",
        "When you run the example usage, you would get output similar to:"
      ],
      "metadata": {
        "id": "eXwg_5C3Kb3Y"
      }
    },
    {
      "cell_type": "code",
      "source": [
        "[(34587, 162.8), (98762, 284.0), (77226, 98.85), (88112, 69.97)]"
      ],
      "metadata": {
        "id": "UzLL4eawKnj3"
      },
      "execution_count": null,
      "outputs": []
    },
    {
      "cell_type": "markdown",
      "source": [
        "10.Create a Python program that uses `filter()` to remove all the vowels from a given string.\n",
        "\n",
        "Ans: You can use the filter() function in Python to remove all the vowels from a given string like this:\n"
      ],
      "metadata": {
        "id": "dhqKNK6gGin-"
      }
    },
    {
      "cell_type": "code",
      "source": [
        "def remove_vowels(input_string):\n",
        "    vowels = \"aeiouAEIOU\"\n",
        "    # Use filter to keep only non-vowel characters\n",
        "    filtered_string = ''.join(filter(lambda char: char not in vowels, input_string))\n",
        "    return filtered_string\n",
        "\n",
        "# Example usage:\n",
        "input_string = \"Hello, World!\"\n",
        "result = remove_vowels(input_string)\n",
        "print(result)  # Output: Hll, Wrld!\n"
      ],
      "metadata": {
        "colab": {
          "base_uri": "https://localhost:8080/"
        },
        "id": "dAvAPeO3GtN4",
        "outputId": "2d124104-0ba0-4dc9-8b51-9163d8188db2"
      },
      "execution_count": 25,
      "outputs": [
        {
          "output_type": "stream",
          "name": "stdout",
          "text": [
            "Hll, Wrld!\n"
          ]
        }
      ]
    },
    {
      "cell_type": "markdown",
      "source": [
        "9. Write a Python program that uses `map()` to convert a list of temperatures from Celsius to Fahrenheit.\n",
        "\n",
        "Ans: You can use the map() function in Python to convert a list of temperatures from Celsius to Fahrenheit like this:"
      ],
      "metadata": {
        "id": "BpbkYgJSGZVg"
      }
    },
    {
      "cell_type": "code",
      "source": [
        "# Function to convert Celsius to Fahrenheit\n",
        "def celsius_to_fahrenheit(celsius):\n",
        "    return (celsius * 9/5) + 32\n",
        "\n",
        "# List of temperatures in Celsius\n",
        "celsius_temps = [0, 20, 37, 100]\n",
        "\n",
        "# Using map to convert the list of temperatures\n",
        "fahrenheit_temps = list(map(celsius_to_fahrenheit, celsius_temps))\n",
        "\n",
        "# Example usage\n",
        "print(fahrenheit_temps)\n"
      ],
      "metadata": {
        "colab": {
          "base_uri": "https://localhost:8080/"
        },
        "id": "KC1xgGnUGeqt",
        "outputId": "c40db784-3504-42ff-cce1-3e030b6cedb6"
      },
      "execution_count": 24,
      "outputs": [
        {
          "output_type": "stream",
          "name": "stdout",
          "text": [
            "[32.0, 68.0, 98.6, 212.0]\n"
          ]
        }
      ]
    },
    {
      "cell_type": "markdown",
      "source": [
        "8.Use a lambda function in Python to sort a list of tuples based on the second element of each tuple.\n",
        "\n",
        "Ans: You can use a lambda function in Python to sort a list of tuples based on the second element of each tuple like this:"
      ],
      "metadata": {
        "id": "q_dpl5XPF3sp"
      }
    },
    {
      "cell_type": "code",
      "source": [
        "# Sample list of tuples\n",
        "data = [(1, 'banana'), (2, 'apple'), (3, 'cherry'), (4, 'date')]\n",
        "\n",
        "# Sorting the list based on the second element of each tuple\n",
        "sorted_data = sorted(data, key=lambda x: x[1])\n",
        "\n",
        "# Example usage\n",
        "print(sorted_data)\n"
      ],
      "metadata": {
        "colab": {
          "base_uri": "https://localhost:8080/"
        },
        "id": "IymBFqalGL8n",
        "outputId": "321a61bf-432e-4883-db04-38956b688b14"
      },
      "execution_count": 23,
      "outputs": [
        {
          "output_type": "stream",
          "name": "stdout",
          "text": [
            "[(2, 'apple'), (1, 'banana'), (3, 'cherry'), (4, 'date')]\n"
          ]
        }
      ]
    },
    {
      "cell_type": "markdown",
      "source": [
        "7. Implement a generator function that reads a file line by line and yields each line as a string.\n",
        "\n",
        "Ans: You can implement a generator function that reads a file line by line and yields each line as a string like this:"
      ],
      "metadata": {
        "id": "S4HxX97kEYzF"
      }
    },
    {
      "cell_type": "code",
      "source": [
        "def read_file_lines(file_path):\n",
        "    with open(file_path, 'r') as file:\n",
        "        for line in file:\n",
        "            yield line.strip()  # Use strip() to remove leading/trailing whitespace\n",
        "\n",
        "# Example usage:\n",
        "file_path = 'example.txt'  # Replace with your file path\n",
        "for line in read_file_lines(file_path):\n",
        "    print(line)\n"
      ],
      "metadata": {
        "id": "oPwWcaN5FgwQ"
      },
      "execution_count": null,
      "outputs": []
    },
    {
      "cell_type": "markdown",
      "source": [
        "Explanation:\n",
        "\n",
        "Generator Function: The read_file_lines function opens the specified file and iterates through each line, yielding it after stripping any leading or trailing whitespace.\n",
        "\n",
        "Example Usage: You can specify the path to your file, and the loop will print each line as it is read."
      ],
      "metadata": {
        "id": "ovI9dK4kFhqo"
      }
    },
    {
      "cell_type": "markdown",
      "source": [
        "6.Write a generator function in Python that yields the powers of 2 up to a given exponent\n",
        "\n",
        "Ans: You can create a generator function in Python that yields the powers of 2 up to a specified exponent like this:"
      ],
      "metadata": {
        "id": "rIgyUxlQECTP"
      }
    },
    {
      "cell_type": "code",
      "source": [
        "def powers_of_two(exponent):\n",
        "    for i in range(exponent + 1):\n",
        "        yield 2 ** i\n",
        "\n",
        "# Example usage:\n",
        "exponent = 5\n",
        "for power in powers_of_two(exponent):\n",
        "    print(power)\n"
      ],
      "metadata": {
        "colab": {
          "base_uri": "https://localhost:8080/"
        },
        "id": "zL3f5qJzEN-N",
        "outputId": "6bab877d-bdc1-4731-fd3c-d8a1abaa093a"
      },
      "execution_count": 13,
      "outputs": [
        {
          "output_type": "stream",
          "name": "stdout",
          "text": [
            "1\n",
            "2\n",
            "4\n",
            "8\n",
            "16\n",
            "32\n"
          ]
        }
      ]
    },
    {
      "cell_type": "markdown",
      "source": [
        "Explanation:\n",
        "\n",
        "Generator Function: The powers_of_two function uses the yield keyword to produce powers of 2 from\n",
        "2\n",
        "0\n",
        "2\n",
        "0\n",
        "  to\n",
        "2\n",
        "exponent\n",
        "2\n",
        "exponent.\n",
        "\n",
        "Example Usage: You can specify the desired exponent, and the loop will print each power of 2 up to that exponent. For an exponent of 5, it will yield 1, 2, 4, 8, 16, 32."
      ],
      "metadata": {
        "id": "LhA3kkN6ERdN"
      }
    },
    {
      "cell_type": "markdown",
      "source": [
        "5. Create an iterator class in Python that generates the Fibonacci sequence up to a specified number of terms.\n",
        "\n",
        "Ans: You can create an iterator class in Python that generates the Fibonacci sequence up to a specified number of terms like this:"
      ],
      "metadata": {
        "id": "uhNwSzaJ_ny8"
      }
    },
    {
      "cell_type": "code",
      "source": [
        "class FibonacciIterator:\n",
        "    def __init__(self, terms):\n",
        "        self.terms = terms\n",
        "        self.current = 0\n",
        "        self.next_value = 1\n",
        "        self.count = 0\n",
        "\n",
        "    def __iter__(self):\n",
        "        return self\n",
        "\n",
        "    def __next__(self):\n",
        "        if self.count < self.terms:\n",
        "            self.count += 1\n",
        "            self.current, self.next_value = self.next_value, self.current + self.next_value\n",
        "            return self.current\n",
        "        else:\n",
        "            raise StopIteration\n",
        "\n",
        "# Example usage:\n",
        "fibonacci_terms = 10\n",
        "fibonacci_sequence = FibonacciIterator(fibonacci_terms)\n",
        "\n",
        "for number in fibonacci_sequence:\n",
        "    print(number)\n"
      ],
      "metadata": {
        "colab": {
          "base_uri": "https://localhost:8080/"
        },
        "id": "HruGA9y7D0fu",
        "outputId": "2e7563d1-4cf1-4cb9-f7b1-756e91f6e74b"
      },
      "execution_count": 12,
      "outputs": [
        {
          "output_type": "stream",
          "name": "stdout",
          "text": [
            "1\n",
            "1\n",
            "2\n",
            "3\n",
            "5\n",
            "8\n",
            "13\n",
            "21\n",
            "34\n",
            "55\n"
          ]
        }
      ]
    },
    {
      "cell_type": "markdown",
      "source": [
        "Explanation:\n",
        "__init__ Method: Initializes the iterator with the desired number of terms and sets the starting values for the Fibonacci sequence.\n",
        "__iter__ Method: Returns the iterator object itself.\n",
        "__next__ Method: Calculates the next Fibonacci number. If the number of terms has been reached, it raises a StopIteration exception."
      ],
      "metadata": {
        "id": "0YY9x5QSD-6V"
      }
    },
    {
      "cell_type": "markdown",
      "source": [
        "4. Write a Python function that checks if a given number is prime or not from 1 to 200.\n",
        "\n",
        "Ans: You can create a Python function to check if a given number is prime, specifically for numbers from 1 to 200, like this:"
      ],
      "metadata": {
        "id": "DhKYi-YQ_JFW"
      }
    },
    {
      "cell_type": "code",
      "source": [
        "def is_prime(n):\n",
        "    if n <= 1:\n",
        "        return False\n",
        "    for i in range(2, int(n**0.5) + 1):\n",
        "        if n % i == 0:\n",
        "            return False\n",
        "    return True\n",
        "\n",
        "# Example usage:\n",
        "for number in range(1, 201):\n",
        "    if is_prime(number):\n",
        "        print(f\"{number} is prime.\")\n"
      ],
      "metadata": {
        "colab": {
          "base_uri": "https://localhost:8080/"
        },
        "id": "PhxGAHXX_Zk0",
        "outputId": "3f3befc5-64f4-46c0-98c0-187d6330c3ce"
      },
      "execution_count": 11,
      "outputs": [
        {
          "output_type": "stream",
          "name": "stdout",
          "text": [
            "2 is prime.\n",
            "3 is prime.\n",
            "5 is prime.\n",
            "7 is prime.\n",
            "11 is prime.\n",
            "13 is prime.\n",
            "17 is prime.\n",
            "19 is prime.\n",
            "23 is prime.\n",
            "29 is prime.\n",
            "31 is prime.\n",
            "37 is prime.\n",
            "41 is prime.\n",
            "43 is prime.\n",
            "47 is prime.\n",
            "53 is prime.\n",
            "59 is prime.\n",
            "61 is prime.\n",
            "67 is prime.\n",
            "71 is prime.\n",
            "73 is prime.\n",
            "79 is prime.\n",
            "83 is prime.\n",
            "89 is prime.\n",
            "97 is prime.\n",
            "101 is prime.\n",
            "103 is prime.\n",
            "107 is prime.\n",
            "109 is prime.\n",
            "113 is prime.\n",
            "127 is prime.\n",
            "131 is prime.\n",
            "137 is prime.\n",
            "139 is prime.\n",
            "149 is prime.\n",
            "151 is prime.\n",
            "157 is prime.\n",
            "163 is prime.\n",
            "167 is prime.\n",
            "173 is prime.\n",
            "179 is prime.\n",
            "181 is prime.\n",
            "191 is prime.\n",
            "193 is prime.\n",
            "197 is prime.\n",
            "199 is prime.\n"
          ]
        }
      ]
    },
    {
      "cell_type": "markdown",
      "source": [
        "In this function, is_prime(n) checks if the number n is prime. It first handles the cases where n is less than or equal to 1. Then it checks for factors from 2 up to the square root of n. If any factor is found, the function returns False; otherwise, it returns True. The example usage prints out all prime numbers from 1 to 200."
      ],
      "metadata": {
        "id": "t2RsFzO1_loE"
      }
    },
    {
      "cell_type": "markdown",
      "source": [
        "3.Implement a Python function that takes a list of integers and returns a new list containing the squares of  each number.\n",
        "\n",
        "Ans: You can implement a Python function to return a new list containing the squares of each integer in a given list like this:"
      ],
      "metadata": {
        "id": "ZfIpJe3i-p1P"
      }
    },
    {
      "cell_type": "code",
      "source": [
        "def square_numbers(numbers):\n",
        "    return [num ** 2 for num in numbers]\n",
        "\n",
        "# Example usage:\n",
        "input_list = [1, 2, 3, 4, 5]\n",
        "result = square_numbers(input_list)\n",
        "print(result)  # Output: [1, 4, 9, 16, 25]\n"
      ],
      "metadata": {
        "colab": {
          "base_uri": "https://localhost:8080/"
        },
        "id": "rPTStVqc-_G_",
        "outputId": "2a21f42b-c60b-456b-b696-1f708e8e8086"
      },
      "execution_count": 10,
      "outputs": [
        {
          "output_type": "stream",
          "name": "stdout",
          "text": [
            "[1, 4, 9, 16, 25]\n"
          ]
        }
      ]
    },
    {
      "cell_type": "markdown",
      "source": [
        "2.Create a Python function that accepts a string and returns the reverse of that string.\n",
        "\n",
        "Ans: You can create a Python function to reverse a string like this:"
      ],
      "metadata": {
        "id": "zn30A2mc-W5x"
      }
    },
    {
      "cell_type": "code",
      "source": [
        "def reverse_string(s):\n",
        "    return s[::-1]\n",
        "\n",
        "# Example usage:\n",
        "input_string = \"Hello, World!\"\n",
        "result = reverse_string(input_string)\n",
        "print(result)  # Output: !dlroW ,olleH"
      ],
      "metadata": {
        "colab": {
          "base_uri": "https://localhost:8080/"
        },
        "id": "8NAjz9xJ-eF_",
        "outputId": "5d11426f-b847-4fcd-d1ef-d12da6a636cd"
      },
      "execution_count": 9,
      "outputs": [
        {
          "output_type": "stream",
          "name": "stdout",
          "text": [
            "!dlroW ,olleH\n"
          ]
        }
      ]
    },
    {
      "cell_type": "markdown",
      "source": [
        "1.Write a Python function that takes a list of numbers as input and returns the sum of all even numbers in the list.\n",
        "\n",
        "Ans: def sum_even_numbers(numbers):\n",
        "    even_sum = 0\n",
        "    for num in numbers:\n",
        "        if num % 2 == 0:\n",
        "            even_sum += num\n",
        "    return even_sum"
      ],
      "metadata": {
        "id": "5lNXpGMv6_Uz"
      }
    },
    {
      "cell_type": "code",
      "source": [
        "def sum_even_numbers(numbers):\n",
        "    return sum(num for num in numbers if num % 2 == 0)\n",
        "\n",
        "# Example usage:\n",
        "numbers = [1, 2, 3, 4, 5, 6]\n",
        "result = sum_even_numbers(numbers)\n",
        "print(result)  # Output: 12"
      ],
      "metadata": {
        "colab": {
          "base_uri": "https://localhost:8080/"
        },
        "id": "15IN_bp17YMi",
        "outputId": "4818910b-8557-4bab-e997-69f1bf6466cc"
      },
      "execution_count": 8,
      "outputs": [
        {
          "output_type": "stream",
          "name": "stdout",
          "text": [
            "12\n"
          ]
        }
      ]
    },
    {
      "cell_type": "markdown",
      "source": [
        "# **Theory Questions:**"
      ],
      "metadata": {
        "id": "PgHciUIVzmou"
      }
    },
    {
      "cell_type": "markdown",
      "source": [
        "11.Using pen & Paper write the internal mechanism for sum operation using  reduce function on this given list:[47,11,42,13];\n",
        "\n",
        "Ans: Here's the internal mechanism for the sum operation using the reduce function on the given list:\n",
        "\n",
        "List: [47, 11, 42, 13]\n",
        "\n",
        "Reduce Function: functools.reduce(lambda x, y: x + y, [47, 11, 42, 13])\n",
        "\n",
        "Internal Mechanism:\n",
        "\n",
        "1. Initialize x with the first element of the list: x = 47\n",
        "2. Initialize y with the second element of the list: y = 11\n",
        "3. Apply the lambda function: x = x + y = 47 + 11 = 58\n",
        "4. Update x with the result: x = 58\n",
        "5. Move to the next element in the list: y = 42\n",
        "6. Apply the lambda function: x = x + y = 58 + 42 = 100\n",
        "7. Update x with the result: x = 100\n",
        "8. Move to the next element in the list: y = 13\n",
        "9. Apply the lambda function: x = x + y = 100 + 13 = 113\n",
        "10. Return the final result: 113\n",
        "\n",
        "Step-by-Step Calculation:\n",
        "\n",
        "\n",
        "47 + 11 = 58\n",
        "58 + 42 = 100\n",
        "100 + 13 = 113\n",
        "\n",
        "\n",
        "Result: 113"
      ],
      "metadata": {
        "id": "X_gLRFo66ay9"
      }
    },
    {
      "cell_type": "markdown",
      "source": [
        "10.What is the difference between `map()`, `reduce()`, and `filter()` functions in Python?\n",
        "\n",
        "Ans: map(), reduce(), and filter() are three fundamental functions in Python's functional programming toolkit:\n",
        "\n",
        "Map()\n",
        "\n",
        "1. Applies a function to each element of an iterable.\n",
        "2. Returns a map object (iterator).\n",
        "3. Purpose: Transformation, data conversion.\n",
        "\n",
        "Example:\n",
        "\n",
        "numbers = [1, 2, 3, 4, 5]\n",
        "squared_numbers = list(map(lambda x: x ** 2, numbers))\n",
        "print(squared_numbers)  # [1, 4, 9, 16, 25]\n",
        "\n",
        "\n",
        "Filter()\n",
        "\n",
        "1. Applies a predicate function to each element of an iterable.\n",
        "2. Returns a filter object (iterator) with elements for which the predicate is True.\n",
        "3. Purpose: Data filtering, selection.\n",
        "\n",
        "Example:\n",
        "\n",
        "numbers = [1, 2, 3, 4, 5]\n",
        "even_numbers = list(filter(lambda x: x % 2 == 0, numbers))\n",
        "print(even_numbers)  # [2, 4]\n",
        "\n",
        "\n",
        "Reduce()\n",
        "\n",
        "1. Applies a binary function to all items in an iterable, going from left to right.\n",
        "2. Returns a single output value.\n",
        "3. Purpose: Accumulation, aggregation.\n",
        "\n",
        "Example (using functools.reduce):\n",
        "\n",
        "import functools\n",
        "numbers = [1, 2, 3, 4, 5]\n",
        "sum = functools.reduce(lambda x, y: x + y, numbers)\n",
        "print(sum)  # 15\n",
        "Key differences:\n",
        "\n",
        "|  | Map() | Filter() | Reduce() |\n",
        "| --- | --- | --- | --- |\n",
        "| Purpose | Transformation | Filtering | Accumulation |\n",
        "| Output | Iterator | Iterator | Single value |\n",
        "| Function | Unary | Predicate | Binary |\n",
        "| Operation | Apply | Select | Accumulate |\n"
      ],
      "metadata": {
        "id": "I-XNUqi45ZbJ"
      }
    },
    {
      "cell_type": "markdown",
      "source": [
        "9. Explain the purpose and usage of the `map()` function in Python.\n",
        "\n",
        "Ans: The map() function in Python:\n",
        "\n",
        "Purpose:\n",
        "\n",
        "The map() function applies a given function to each item of an iterable (such as a list, tuple, or string) and returns a map object, which is an iterator.\n",
        "\n",
        "Syntax:\n",
        "\n",
        "\n",
        "map(function, iterable)\n",
        "\n",
        "\n",
        "Usage:\n",
        "\n",
        "1. Transforming data: Apply a function to each element of an iterable.\n",
        "2. Converting data types: Convert elements from one type to another.\n",
        "3. Filtering data: Use a function to filter out unwanted elements.\n",
        "\n",
        "Examples:\n",
        "\n",
        "1. Square numbers:\n",
        "\n",
        "\n",
        "numbers = [1, 2, 3, 4, 5]\n",
        "squared_numbers = list(map(lambda x: x ** 2, numbers))\n",
        "print(squared_numbers)  # [1, 4, 9, 16, 25]\n",
        "\n",
        "\n",
        "1. Convert strings to uppercase:\n",
        "\n",
        "\n",
        "strings = [\"hello\", \"world\", \"python\"]\n",
        "uppercase_strings = list(map(str.upper, strings))\n",
        "print(uppercase_strings)  # [\"HELLO\", \"WORLD\", \"PYTHON\"]\n",
        "\n",
        "\n",
        "1. Filter out even numbers:\n",
        "\n",
        "\n",
        "numbers = [1, 2, 3, 4, 5]\n",
        "odd_numbers = list(map(lambda x: x if x % 2 != 0 else None, numbers))\n",
        "odd_numbers = [x for x in odd_numbers if x is not None]\n",
        "print(odd_numbers)  # [1, 3, 5]\n",
        "\n",
        "\n",
        "Multiple Iterables:\n",
        "\n",
        "map() can take multiple iterables as arguments. The function will be applied to the corresponding elements of each iterable.\n",
        "\n",
        "\n",
        "numbers1 = [1, 2, 3]\n",
        "numbers2 = [4, 5, 6]\n",
        "sums = list(map(lambda x, y: x + y, numbers1, numbers2))\n",
        "print(sums)  # [5, 7, 9]"
      ],
      "metadata": {
        "id": "t-YfogFa5Ftp"
      }
    },
    {
      "cell_type": "markdown",
      "source": [
        "8.What is a lambda function in Python and when is it typically used?\n",
        "\n",
        "Ans: Lambda Function in Python:\n",
        "\n",
        "A lambda function is a small, anonymous function that can take any number of arguments, but can only have one expression.\n",
        "\n",
        "Syntax:\n",
        "\n",
        "\n",
        "lambda arguments: expression\n",
        "\n",
        "\n",
        "Example:\n",
        "\n",
        "\n",
        "sum = lambda x, y: x + y\n",
        "print(sum(3, 4))  # Output: 7\n",
        "\n",
        "\n",
        "When to Use Lambda Functions:\n",
        "\n",
        "1. One-time use: Lambda functions are ideal for one-time use cases, eliminating the need for a named function.\n",
        "2. Simple operations: Use lambda for simple operations, like data transformations or filtering.\n",
        "3. Event handling: Lambda functions are useful as event handlers, such as button clicks or keyboard events.\n",
        "4. Map(), Filter(), Reduce(): Lambda functions are often used with these functions for data processing.\n",
        "5. Sorting: Use lambda as the key function for custom sorting.\n",
        "6. Data analysis: Lambda functions are helpful in data analysis, especially with libraries like Pandas.\n",
        "\n",
        "Benefits:\n",
        "\n",
        "1. Concise code: Lambda functions reduce code length.\n",
        "2. Readability: They improve readability by encapsulating simple logic.\n",
        "3. Flexibility: Lambda functions can be defined anywhere.\n",
        "\n",
        "Common Use Cases:\n",
        "\n",
        "1. Sorting a list of dictionaries by a specific key:\n",
        "\n",
        "students = [{'name': 'John', 'age': 20}, {'name': 'Alice', 'age': 22}]\n",
        "students.sort(key=lambda x: x['age'])\n",
        "\n",
        "1. Filtering a list:\n",
        "\n",
        "numbers = [1, 2, 3, 4, 5]\n",
        "even_numbers = list(filter(lambda x: x % 2 == 0, numbers))\n",
        "\n",
        "1. Mapping a list:\n",
        "\n",
        "numbers = [1, 2, 3, 4, 5]\n",
        "squared_numbers = list(map(lambda x: x ** 2, numbers))"
      ],
      "metadata": {
        "id": "6IxqjCLv4WF8"
      }
    },
    {
      "cell_type": "markdown",
      "source": [
        "7.What are the advantages of using generators over regular functions?\n",
        "\n",
        "Ans: Advantages of Generators over Regular Functions:\n",
        "\n",
        "Memory Efficiency\n",
        "\n",
        "1. Generators store only the current state, reducing memory usage.\n",
        "2. Ideal for handling large datasets or infinite sequences.\n",
        "\n",
        "Improved Performance\n",
        "\n",
        "1. Generators avoid computing unnecessary values.\n",
        "2. Faster iteration due to lazy evaluation.\n",
        "\n",
        "Flexibility\n",
        "\n",
        "1. Generators can produce values on-the-fly.\n",
        "2. Suitable for real-time data processing or cooperative multitasking.\n",
        "\n",
        "Efficient Iteration\n",
        "\n",
        "1. Generators eliminate the need for indexing or slicing.\n",
        "2. Natural fit for for loops or other iterative constructs.\n",
        "\n",
        "Better Error Handling\n",
        "\n",
        "1. Generators can handle errors more elegantly.\n",
        "2. Easy to implement retry mechanisms or error handling.\n",
        "\n",
        "Enhanced Code Readability\n",
        "\n",
        "1. Generators encapsulate complex logic.\n",
        "2. Simplify code by breaking down complex operations.\n",
        "\n",
        "Comparison with Regular Functions\n",
        "\n",
        "|  | Regular Functions | Generators |\n",
        "| --- | --- | --- |\n",
        "| Memory Usage | Stores all values | Stores only current state |\n",
        "| Computation | Computes all values | Computes values on-the-fly |\n",
        "| Iteration | Returns all values | Yields values one-by-one |\n",
        "| Error Handling | More complex | Easier to handle |\n",
        "| Code Readability | More verbose | More concise |\n",
        "\n",
        "Use Generators When\n",
        "\n",
        "1. Handling large datasets.\n",
        "2. Processing real-time data.\n",
        "3. Implementing cooperative multitasking.\n",
        "4. Improving performance.\n",
        "5. Simplifying complex logic.\n",
        "\n",
        "Example\n",
        "\n",
        "# Regular function\n",
        "def squares(n):\n",
        "    result = []\n",
        "    for i in range(n):\n",
        "        result.append(i ** 2)\n",
        "    return result\n",
        "\n",
        "# Generator function\n",
        "def squares_gen(n):\n",
        "    for i in range(n):\n",
        "        yield i ** 2\n",
        "\n",
        "# Usage\n",
        "for square in squares_gen(10):\n",
        "    print(square)"
      ],
      "metadata": {
        "id": "uxxGLA_q3-B2"
      }
    },
    {
      "cell_type": "markdown",
      "source": [
        "6.Explain the concept of generators in Python and how they are defined.\n",
        "\n",
        "Ans: Generators in Python:\n",
        "\n",
        "What are Generators?\n",
        "\n",
        "Generators are a type of iterable, like lists or tuples, but they don't store all values in memory at once. Instead, they generate values on-the-fly as needed.\n",
        "\n",
        "Key Characteristics:\n",
        "\n",
        "1. Lazy Evaluation: Values are computed only when needed.\n",
        "2. Memory Efficiency: No need to store all values in memory.\n",
        "3. Iteratable: Can be looped through using for loops.\n",
        "\n",
        "Defining Generators:\n",
        "\n",
        "Generators are defined using functions with the yield keyword.\n",
        "\n",
        "Basic Syntax:\n",
        "\n",
        "def generator_name():\n",
        "    # Code to generate values\n",
        "    yield value1\n",
        "    # More code to generate values\n",
        "    yield value2\n",
        "    # ...\n",
        "\n",
        "Example:\n",
        "\n",
        "def infinite_sequence():\n",
        "    n = 0\n",
        "    while True:\n",
        "        yield n\n",
        "        n += 1\n",
        "\n",
        "# Create generator object\n",
        "gen = infinite_sequence()\n",
        "\n",
        "# Iterate over generator\n",
        "print(next(gen))  # 0\n",
        "print(next(gen))  # 1\n",
        "print(next(gen))  # 2"
      ],
      "metadata": {
        "id": "L_gFEJ0b2S30"
      }
    },
    {
      "cell_type": "markdown",
      "source": [
        "5. What are iterators in Python and how do they differ from iterables?\n",
        "\n",
        "Ans: Iterators and iterables are fundamental concepts in Python:\n",
        "\n",
        "Iterables\n",
        "\n",
        "1. Objects that can be iterated over (e.g., lists, tuples, dictionaries, sets).\n",
        "2. Can be looped through using for loops or converted to iterators.\n",
        "3. Can be iterated over multiple times.\n",
        "\n",
        "Iterators\n",
        "\n",
        "1. Objects that keep track of their position during iteration.\n",
        "2. Created from iterables using the iter() function.\n",
        "3. Can only be iterated over once.\n",
        "\n",
        "Example:\n",
        "\n",
        "# Iterable (list)\n",
        "my_list = [1, 2, 3]\n",
        "\n",
        "# Create iterator from iterable\n",
        "my_iter = iter(my_list)\n",
        "\n",
        "# Iterate over iterator\n",
        "print(next(my_iter))  # 1\n",
        "print(next(my_iter))  # 2\n",
        "print(next(my_iter))  # 3\n",
        "\n",
        "# Try to iterate again (will raise StopIteration)\n",
        "try:\n",
        "    print(next(my_iter))\n",
        "except StopIteration:\n",
        "    print(\"Iterator exhausted\")\n",
        "\n",
        "# Iterate over iterable again (no issue)\n",
        "for num in my_list:\n",
        "    print(num)  # 1, 2, 3"
      ],
      "metadata": {
        "id": "_HVjlFk518Bk"
      }
    },
    {
      "cell_type": "markdown",
      "source": [
        "4.What is the purpose of the `return` statement in a Python function?\n",
        "\n",
        "Ans: The return statement in a Python function serves several purposes:\n",
        "\n",
        "1. Exiting the Function: The return statement terminates the function's execution and returns control to the caller.\n",
        "\n",
        "2. Returning Values: The return statement can pass values back to the caller. These values can be variables, literals, or expressions.\n",
        "\n",
        "3. Default Return Value: If a function doesn't explicitly use the return statement, it will implicitly return None.\n",
        "\n",
        "4. Multiple Return Values: Python allows functions to return multiple values using tuples, lists, or dictionaries.\n",
        "\n",
        "5. Early Termination: The return statement can be used to exit a function prematurely, skipping remaining code.\n",
        "\n",
        "Example:\n",
        "\n",
        "def greet(name):\n",
        "    print(f\"Hello, {name}!\")\n",
        "    return \"Greeting completed\"\n",
        "\n",
        "result = greet(\"John\")\n",
        "print(result)  # Output: Greeting completed"
      ],
      "metadata": {
        "id": "ZSvNVcgx1dV2"
      }
    },
    {
      "cell_type": "markdown",
      "source": [
        "3.What are the different ways to define and call a function in Python?\n",
        "\n",
        "Ans: Here are the different ways to define and call a function in Python:\n",
        "\n",
        "Defining Functions\n",
        "\n",
        "1. Function Definition: Using the def keyword\n",
        "\n",
        "def greet(name):\n",
        "    print(f\"Hello, {name}!\")\n",
        "\n",
        "greet(\"John\")\n",
        "\n",
        "2. Lambda Functions: Anonymous functions\n",
        "\n",
        "greet = lambda name: print(f\"Hello, {name}!\")\n",
        "greet(\"John\")\n",
        "\n",
        "3. Nested Functions: Functions inside functions\n",
        "\n",
        "def outer():\n",
        "    def inner(name):\n",
        "        print(f\"Hello, {name}!\")\n",
        "    inner(\"John\")\n",
        "outer()\n",
        "\n",
        "\n",
        "Calling Functions\n",
        "\n",
        "1. Positional Arguments: Arguments passed in order\n",
        "\n",
        "def greet(name, age):\n",
        "    print(f\"Hello, {name}! You're {age}.\")\n",
        "greet(\"John\", 30)\n",
        "\n",
        "2. Keyword Arguments: Arguments passed by keyword\n",
        "\n",
        "greet(name=\"John\", age=30)\n",
        "\n",
        "3. Mixed Arguments: Combination of positional and keyword\n",
        "\n",
        "greet(\"John\", age=30)\n",
        "\n",
        "4. Default Argument Values: Optional arguments with default values\n",
        "\n",
        "def greet(name, age=30):\n",
        "    print(f\"Hello, {name}! You're {age}.\")\n",
        "greet(\"John\")\n",
        "\n",
        "5. Variable Arguments: Arbitrary number of arguments (*args, **kwargs)\n",
        "\n",
        "def flexible_greet(*args, **kwargs):\n",
        "    print(\"Arguments:\", args)\n",
        "    print(\"Keyword Arguments:\", kwargs)\n",
        "flexible_greet(\"John\", 30, location=\"New York\")"
      ],
      "metadata": {
        "id": "8p99S-cc0nxh"
      }
    },
    {
      "cell_type": "markdown",
      "source": [
        "2.Explain the concept of function arguments and parameters in Python.\n",
        "\n",
        "Ans: In Python, function arguments and parameters are essential concepts:\n",
        "\n",
        "Parameters:\n",
        "\n",
        "1. Defined in the function definition.\n",
        "2. Receive values passed during function calls.\n",
        "3. Can have default values.\n",
        "4. Can be positional or keyword-based.\n",
        "\n",
        "Arguments:\n",
        "\n",
        "1. Values passed to a function during a call.\n",
        "2. Can be literals, variables, or expressions.\n",
        "3. Matched with parameters based on position or keyword.\n",
        "\n",
        "Types of Parameters:\n",
        "\n",
        "1. Positional Parameters: Defined without keywords.\n",
        "2. Keyword Parameters: Defined with keywords.\n",
        "3. Default Parameters: Have default values.\n",
        "4. Variable Parameters: Accept arbitrary numbers of arguments (*args, **kwargs).\n",
        "\n",
        "Example:\n",
        "\n",
        "def greet(name, age=30, location=\"New York\"):\n",
        "    print(f\"Hello, {name}! You're {age} from {location}.\")\n",
        "\n",
        "# Positional arguments\n",
        "greet(\"John\", 25)\n",
        "\n",
        "# Keyword arguments\n",
        "greet(name=\"Jane\", age=35, location=\"London\")\n",
        "\n",
        "# Mixing positional and keyword arguments\n",
        "greet(\"Bob\", location=\"Paris\", age=40)\n",
        "\n",
        "Variable Parameters:\n",
        "\n",
        "1. *args: Accepts arbitrary positional arguments.\n",
        "2. **kwargs: Accepts arbitrary keyword arguments.\n",
        "\n",
        "Example:\n",
        "\n",
        "def flexible_greet(*args, **kwargs):\n",
        "    print(\"Arguments:\", args)\n",
        "    print(\"Keyword Arguments:\", kwargs)\n",
        "\n",
        "flexible_greet(\"John\", 25, location=\"New York\", occupation=\"Developer\")"
      ],
      "metadata": {
        "id": "QZjM0Jck0HVT"
      }
    },
    {
      "cell_type": "markdown",
      "source": [],
      "metadata": {
        "id": "bfuUI9Wg0dBZ"
      }
    },
    {
      "cell_type": "markdown",
      "source": [
        "1.What is the difference between a function and a method in Python?\n",
        "\n",
        "Ans: In Python, functions and methods are both blocks of code that perform specific tasks, but they differ in their context and usage:\n",
        "\n",
        "Functions:\n",
        "\n",
        "1. Standalone blocks of code.\n",
        "2. Defined outside classes.\n",
        "3. Can be called directly.\n",
        "4. Do not have access to class attributes.\n",
        "\n",
        "Example:\n",
        "\n",
        "\n",
        "def greet(name):\n",
        "    print(f\"Hello, {name}!\")\n",
        "\n",
        "greet(\"John\")\n",
        "\n",
        "\n",
        "Methods:\n",
        "\n",
        "1. Blocks of code bound to a class or object.\n",
        "2. Defined inside classes.\n",
        "3. Called on instances of the class.\n",
        "4. Have access to class attributes (data members).\n",
        "\n",
        "Example:\n",
        "\n",
        "\n",
        "class Person:\n",
        "    def __init__(self, name):\n",
        "        self.name = name\n",
        "\n",
        "    def greet(self):\n",
        "        print(f\"Hello, my name is {self.name}!\")\n",
        "\n",
        "john = Person(\"John\")\n",
        "john.greet()"
      ],
      "metadata": {
        "id": "WXa_q2otzu8D"
      }
    }
  ]
}